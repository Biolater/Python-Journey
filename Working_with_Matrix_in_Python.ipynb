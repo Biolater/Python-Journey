{
  "nbformat": 4,
  "nbformat_minor": 0,
  "metadata": {
    "colab": {
      "provenance": []
    },
    "kernelspec": {
      "name": "python3",
      "display_name": "Python 3"
    },
    "language_info": {
      "name": "python"
    }
  },
  "cells": [
    {
      "cell_type": "code",
      "execution_count": 2,
      "metadata": {
        "id": "pgd_47XgciDj"
      },
      "outputs": [],
      "source": [
        "import numpy as np"
      ]
    },
    {
      "cell_type": "code",
      "source": [
        "matrix_1 = np.array([[1,2,3],[4,5,6]])\n",
        "matrix_2 = np.array([[1,2],[3,4],[5,6]])"
      ],
      "metadata": {
        "id": "UrB2t9k5cneo"
      },
      "execution_count": 3,
      "outputs": []
    },
    {
      "cell_type": "code",
      "source": [
        "print(matrix_1)\n",
        "print(\"----------\")\n",
        "print(matrix_2)"
      ],
      "metadata": {
        "colab": {
          "base_uri": "https://localhost:8080/"
        },
        "id": "PlyIX57zdHP9",
        "outputId": "c0ec3a9d-949d-4af4-feb3-344c7bc3508c"
      },
      "execution_count": 15,
      "outputs": [
        {
          "output_type": "stream",
          "name": "stdout",
          "text": [
            "[[1 2 3]\n",
            " [4 5 6]]\n",
            "----------\n",
            "[[1 2]\n",
            " [3 4]\n",
            " [5 6]]\n"
          ]
        }
      ]
    },
    {
      "cell_type": "code",
      "source": [
        "random_matrix = np.random.rand(2,2)\n",
        "print(random_matrix)"
      ],
      "metadata": {
        "colab": {
          "base_uri": "https://localhost:8080/"
        },
        "id": "Ue8HpvfWdJRu",
        "outputId": "98cf8448-77e1-43f8-f21e-09974aad7cd3"
      },
      "execution_count": 21,
      "outputs": [
        {
          "output_type": "stream",
          "name": "stdout",
          "text": [
            "[[0.50640595 0.78022237]\n",
            " [0.37513724 0.68986919]]\n"
          ]
        }
      ]
    },
    {
      "cell_type": "code",
      "source": [
        "random_matrix_2 = np.random.randint(1, 60, (3, 3))\n",
        "print(random_matrix_2)"
      ],
      "metadata": {
        "colab": {
          "base_uri": "https://localhost:8080/"
        },
        "id": "FgkSqY0Fegit",
        "outputId": "cb93c007-e603-4b75-ebda-f67b78f42dac"
      },
      "execution_count": 24,
      "outputs": [
        {
          "output_type": "stream",
          "name": "stdout",
          "text": [
            "[[33 44 16]\n",
            " [ 9 19 46]\n",
            " [ 4 55 54]]\n"
          ]
        }
      ]
    },
    {
      "cell_type": "code",
      "source": [
        "matrix_with_ones = np.ones((3,3), dtype=int)\n",
        "print(matrix_with_ones)"
      ],
      "metadata": {
        "colab": {
          "base_uri": "https://localhost:8080/"
        },
        "id": "AxozT3-ge0tL",
        "outputId": "347a2611-f33a-414f-c8bc-c5e81293a2ef"
      },
      "execution_count": 26,
      "outputs": [
        {
          "output_type": "stream",
          "name": "stdout",
          "text": [
            "[[1 1 1]\n",
            " [1 1 1]\n",
            " [1 1 1]]\n"
          ]
        }
      ]
    },
    {
      "cell_type": "code",
      "source": [
        "null_matrix = np.zeros((3,3), dtype=int)\n",
        "print(null_matrix)"
      ],
      "metadata": {
        "colab": {
          "base_uri": "https://localhost:8080/"
        },
        "id": "Kv0Vxit9fIND",
        "outputId": "f68c4c88-7707-4fef-86de-6653d9ef155d"
      },
      "execution_count": 27,
      "outputs": [
        {
          "output_type": "stream",
          "name": "stdout",
          "text": [
            "[[0 0 0]\n",
            " [0 0 0]\n",
            " [0 0 0]]\n"
          ]
        }
      ]
    },
    {
      "cell_type": "code",
      "source": [
        "identity_matrix = np.eye(5, dtype=int)\n",
        "print(identity_matrix)"
      ],
      "metadata": {
        "colab": {
          "base_uri": "https://localhost:8080/"
        },
        "id": "5wbt6vy0fdN_",
        "outputId": "8e6b9564-61f5-4ac8-e24b-cd199d1587b7"
      },
      "execution_count": 30,
      "outputs": [
        {
          "output_type": "stream",
          "name": "stdout",
          "text": [
            "[[1 0 0 0 0]\n",
            " [0 1 0 0 0]\n",
            " [0 0 1 0 0]\n",
            " [0 0 0 1 0]\n",
            " [0 0 0 0 1]]\n"
          ]
        }
      ]
    },
    {
      "cell_type": "code",
      "source": [
        "random_matrix_3 = np.random.randint(1, 101, (5, 5))\n",
        "random_matrix_3_transpose = random_matrix_3.T\n",
        "print(random_matrix_3)\n",
        "print(\"----------\")\n",
        "print(random_matrix_3_transpose)"
      ],
      "metadata": {
        "colab": {
          "base_uri": "https://localhost:8080/"
        },
        "id": "Zp8UYic7fhxF",
        "outputId": "3cc060ab-beac-4885-89c7-44e3f62ad741"
      },
      "execution_count": 32,
      "outputs": [
        {
          "output_type": "stream",
          "name": "stdout",
          "text": [
            "[[ 94  19   3  86  13]\n",
            " [ 54  54 100  68  64]\n",
            " [ 89  56  82  72  39]\n",
            " [ 68  63  11  52  16]\n",
            " [  3   3   3  53  88]]\n",
            "----------\n",
            "[[ 94  54  89  68   3]\n",
            " [ 19  54  56  63   3]\n",
            " [  3 100  82  11   3]\n",
            " [ 86  68  72  52  53]\n",
            " [ 13  64  39  16  88]]\n"
          ]
        }
      ]
    },
    {
      "cell_type": "code",
      "source": [],
      "metadata": {
        "id": "oj6aTBOlf0Hb"
      },
      "execution_count": null,
      "outputs": []
    }
  ]
}